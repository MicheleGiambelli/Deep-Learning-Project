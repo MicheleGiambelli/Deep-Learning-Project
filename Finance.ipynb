{
  "nbformat": 4,
  "nbformat_minor": 0,
  "metadata": {
    "colab": {
      "provenance": []
    },
    "kernelspec": {
      "name": "python3",
      "display_name": "Python 3"
    },
    "language_info": {
      "name": "python"
    }
  },
  "cells": [
    {
      "cell_type": "code",
      "execution_count": 1,
      "metadata": {
        "colab": {
          "base_uri": "https://localhost:8080/",
          "height": 286
        },
        "id": "SE72pMk7hhod",
        "outputId": "e86970eb-873c-4362-cd61-72dca8a6281e"
      },
      "outputs": [
        {
          "output_type": "stream",
          "name": "stderr",
          "text": [
            "\r[*********************100%***********************]  1 of 1 completed\n"
          ]
        },
        {
          "output_type": "execute_result",
          "data": {
            "text/plain": [
              "Price                     Adj Close     Close      High       Low      Open  \\\n",
              "Ticker                      SOL-USD   SOL-USD   SOL-USD   SOL-USD   SOL-USD   \n",
              "Date                                                                          \n",
              "2020-04-10 00:00:00+00:00  0.951054  0.951054  1.313487  0.694187  0.832005   \n",
              "2020-04-11 00:00:00+00:00  0.776819  0.776819  1.049073  0.765020  0.951054   \n",
              "2020-04-12 00:00:00+00:00  0.882507  0.882507  0.956670  0.762426  0.785448   \n",
              "2020-04-13 00:00:00+00:00  0.777832  0.777832  0.891603  0.773976  0.890760   \n",
              "2020-04-14 00:00:00+00:00  0.661925  0.661925  0.796472  0.628169  0.777832   \n",
              "\n",
              "Price                        Volume  \n",
              "Ticker                      SOL-USD  \n",
              "Date                                 \n",
              "2020-04-10 00:00:00+00:00  87364276  \n",
              "2020-04-11 00:00:00+00:00  43862444  \n",
              "2020-04-12 00:00:00+00:00  38736897  \n",
              "2020-04-13 00:00:00+00:00  18211285  \n",
              "2020-04-14 00:00:00+00:00  16747614  "
            ],
            "text/html": [
              "\n",
              "  <div id=\"df-b19f4acd-b8cd-4a27-96ed-731f4bdfa7f2\" class=\"colab-df-container\">\n",
              "    <div>\n",
              "<style scoped>\n",
              "    .dataframe tbody tr th:only-of-type {\n",
              "        vertical-align: middle;\n",
              "    }\n",
              "\n",
              "    .dataframe tbody tr th {\n",
              "        vertical-align: top;\n",
              "    }\n",
              "\n",
              "    .dataframe thead tr th {\n",
              "        text-align: left;\n",
              "    }\n",
              "\n",
              "    .dataframe thead tr:last-of-type th {\n",
              "        text-align: right;\n",
              "    }\n",
              "</style>\n",
              "<table border=\"1\" class=\"dataframe\">\n",
              "  <thead>\n",
              "    <tr>\n",
              "      <th>Price</th>\n",
              "      <th>Adj Close</th>\n",
              "      <th>Close</th>\n",
              "      <th>High</th>\n",
              "      <th>Low</th>\n",
              "      <th>Open</th>\n",
              "      <th>Volume</th>\n",
              "    </tr>\n",
              "    <tr>\n",
              "      <th>Ticker</th>\n",
              "      <th>SOL-USD</th>\n",
              "      <th>SOL-USD</th>\n",
              "      <th>SOL-USD</th>\n",
              "      <th>SOL-USD</th>\n",
              "      <th>SOL-USD</th>\n",
              "      <th>SOL-USD</th>\n",
              "    </tr>\n",
              "    <tr>\n",
              "      <th>Date</th>\n",
              "      <th></th>\n",
              "      <th></th>\n",
              "      <th></th>\n",
              "      <th></th>\n",
              "      <th></th>\n",
              "      <th></th>\n",
              "    </tr>\n",
              "  </thead>\n",
              "  <tbody>\n",
              "    <tr>\n",
              "      <th>2020-04-10 00:00:00+00:00</th>\n",
              "      <td>0.951054</td>\n",
              "      <td>0.951054</td>\n",
              "      <td>1.313487</td>\n",
              "      <td>0.694187</td>\n",
              "      <td>0.832005</td>\n",
              "      <td>87364276</td>\n",
              "    </tr>\n",
              "    <tr>\n",
              "      <th>2020-04-11 00:00:00+00:00</th>\n",
              "      <td>0.776819</td>\n",
              "      <td>0.776819</td>\n",
              "      <td>1.049073</td>\n",
              "      <td>0.765020</td>\n",
              "      <td>0.951054</td>\n",
              "      <td>43862444</td>\n",
              "    </tr>\n",
              "    <tr>\n",
              "      <th>2020-04-12 00:00:00+00:00</th>\n",
              "      <td>0.882507</td>\n",
              "      <td>0.882507</td>\n",
              "      <td>0.956670</td>\n",
              "      <td>0.762426</td>\n",
              "      <td>0.785448</td>\n",
              "      <td>38736897</td>\n",
              "    </tr>\n",
              "    <tr>\n",
              "      <th>2020-04-13 00:00:00+00:00</th>\n",
              "      <td>0.777832</td>\n",
              "      <td>0.777832</td>\n",
              "      <td>0.891603</td>\n",
              "      <td>0.773976</td>\n",
              "      <td>0.890760</td>\n",
              "      <td>18211285</td>\n",
              "    </tr>\n",
              "    <tr>\n",
              "      <th>2020-04-14 00:00:00+00:00</th>\n",
              "      <td>0.661925</td>\n",
              "      <td>0.661925</td>\n",
              "      <td>0.796472</td>\n",
              "      <td>0.628169</td>\n",
              "      <td>0.777832</td>\n",
              "      <td>16747614</td>\n",
              "    </tr>\n",
              "  </tbody>\n",
              "</table>\n",
              "</div>\n",
              "    <div class=\"colab-df-buttons\">\n",
              "\n",
              "  <div class=\"colab-df-container\">\n",
              "    <button class=\"colab-df-convert\" onclick=\"convertToInteractive('df-b19f4acd-b8cd-4a27-96ed-731f4bdfa7f2')\"\n",
              "            title=\"Convert this dataframe to an interactive table.\"\n",
              "            style=\"display:none;\">\n",
              "\n",
              "  <svg xmlns=\"http://www.w3.org/2000/svg\" height=\"24px\" viewBox=\"0 -960 960 960\">\n",
              "    <path d=\"M120-120v-720h720v720H120Zm60-500h600v-160H180v160Zm220 220h160v-160H400v160Zm0 220h160v-160H400v160ZM180-400h160v-160H180v160Zm440 0h160v-160H620v160ZM180-180h160v-160H180v160Zm440 0h160v-160H620v160Z\"/>\n",
              "  </svg>\n",
              "    </button>\n",
              "\n",
              "  <style>\n",
              "    .colab-df-container {\n",
              "      display:flex;\n",
              "      gap: 12px;\n",
              "    }\n",
              "\n",
              "    .colab-df-convert {\n",
              "      background-color: #E8F0FE;\n",
              "      border: none;\n",
              "      border-radius: 50%;\n",
              "      cursor: pointer;\n",
              "      display: none;\n",
              "      fill: #1967D2;\n",
              "      height: 32px;\n",
              "      padding: 0 0 0 0;\n",
              "      width: 32px;\n",
              "    }\n",
              "\n",
              "    .colab-df-convert:hover {\n",
              "      background-color: #E2EBFA;\n",
              "      box-shadow: 0px 1px 2px rgba(60, 64, 67, 0.3), 0px 1px 3px 1px rgba(60, 64, 67, 0.15);\n",
              "      fill: #174EA6;\n",
              "    }\n",
              "\n",
              "    .colab-df-buttons div {\n",
              "      margin-bottom: 4px;\n",
              "    }\n",
              "\n",
              "    [theme=dark] .colab-df-convert {\n",
              "      background-color: #3B4455;\n",
              "      fill: #D2E3FC;\n",
              "    }\n",
              "\n",
              "    [theme=dark] .colab-df-convert:hover {\n",
              "      background-color: #434B5C;\n",
              "      box-shadow: 0px 1px 3px 1px rgba(0, 0, 0, 0.15);\n",
              "      filter: drop-shadow(0px 1px 2px rgba(0, 0, 0, 0.3));\n",
              "      fill: #FFFFFF;\n",
              "    }\n",
              "  </style>\n",
              "\n",
              "    <script>\n",
              "      const buttonEl =\n",
              "        document.querySelector('#df-b19f4acd-b8cd-4a27-96ed-731f4bdfa7f2 button.colab-df-convert');\n",
              "      buttonEl.style.display =\n",
              "        google.colab.kernel.accessAllowed ? 'block' : 'none';\n",
              "\n",
              "      async function convertToInteractive(key) {\n",
              "        const element = document.querySelector('#df-b19f4acd-b8cd-4a27-96ed-731f4bdfa7f2');\n",
              "        const dataTable =\n",
              "          await google.colab.kernel.invokeFunction('convertToInteractive',\n",
              "                                                    [key], {});\n",
              "        if (!dataTable) return;\n",
              "\n",
              "        const docLinkHtml = 'Like what you see? Visit the ' +\n",
              "          '<a target=\"_blank\" href=https://colab.research.google.com/notebooks/data_table.ipynb>data table notebook</a>'\n",
              "          + ' to learn more about interactive tables.';\n",
              "        element.innerHTML = '';\n",
              "        dataTable['output_type'] = 'display_data';\n",
              "        await google.colab.output.renderOutput(dataTable, element);\n",
              "        const docLink = document.createElement('div');\n",
              "        docLink.innerHTML = docLinkHtml;\n",
              "        element.appendChild(docLink);\n",
              "      }\n",
              "    </script>\n",
              "  </div>\n",
              "\n",
              "\n",
              "<div id=\"df-0236cd7a-c4b1-45c3-8161-28108524381b\">\n",
              "  <button class=\"colab-df-quickchart\" onclick=\"quickchart('df-0236cd7a-c4b1-45c3-8161-28108524381b')\"\n",
              "            title=\"Suggest charts\"\n",
              "            style=\"display:none;\">\n",
              "\n",
              "<svg xmlns=\"http://www.w3.org/2000/svg\" height=\"24px\"viewBox=\"0 0 24 24\"\n",
              "     width=\"24px\">\n",
              "    <g>\n",
              "        <path d=\"M19 3H5c-1.1 0-2 .9-2 2v14c0 1.1.9 2 2 2h14c1.1 0 2-.9 2-2V5c0-1.1-.9-2-2-2zM9 17H7v-7h2v7zm4 0h-2V7h2v10zm4 0h-2v-4h2v4z\"/>\n",
              "    </g>\n",
              "</svg>\n",
              "  </button>\n",
              "\n",
              "<style>\n",
              "  .colab-df-quickchart {\n",
              "      --bg-color: #E8F0FE;\n",
              "      --fill-color: #1967D2;\n",
              "      --hover-bg-color: #E2EBFA;\n",
              "      --hover-fill-color: #174EA6;\n",
              "      --disabled-fill-color: #AAA;\n",
              "      --disabled-bg-color: #DDD;\n",
              "  }\n",
              "\n",
              "  [theme=dark] .colab-df-quickchart {\n",
              "      --bg-color: #3B4455;\n",
              "      --fill-color: #D2E3FC;\n",
              "      --hover-bg-color: #434B5C;\n",
              "      --hover-fill-color: #FFFFFF;\n",
              "      --disabled-bg-color: #3B4455;\n",
              "      --disabled-fill-color: #666;\n",
              "  }\n",
              "\n",
              "  .colab-df-quickchart {\n",
              "    background-color: var(--bg-color);\n",
              "    border: none;\n",
              "    border-radius: 50%;\n",
              "    cursor: pointer;\n",
              "    display: none;\n",
              "    fill: var(--fill-color);\n",
              "    height: 32px;\n",
              "    padding: 0;\n",
              "    width: 32px;\n",
              "  }\n",
              "\n",
              "  .colab-df-quickchart:hover {\n",
              "    background-color: var(--hover-bg-color);\n",
              "    box-shadow: 0 1px 2px rgba(60, 64, 67, 0.3), 0 1px 3px 1px rgba(60, 64, 67, 0.15);\n",
              "    fill: var(--button-hover-fill-color);\n",
              "  }\n",
              "\n",
              "  .colab-df-quickchart-complete:disabled,\n",
              "  .colab-df-quickchart-complete:disabled:hover {\n",
              "    background-color: var(--disabled-bg-color);\n",
              "    fill: var(--disabled-fill-color);\n",
              "    box-shadow: none;\n",
              "  }\n",
              "\n",
              "  .colab-df-spinner {\n",
              "    border: 2px solid var(--fill-color);\n",
              "    border-color: transparent;\n",
              "    border-bottom-color: var(--fill-color);\n",
              "    animation:\n",
              "      spin 1s steps(1) infinite;\n",
              "  }\n",
              "\n",
              "  @keyframes spin {\n",
              "    0% {\n",
              "      border-color: transparent;\n",
              "      border-bottom-color: var(--fill-color);\n",
              "      border-left-color: var(--fill-color);\n",
              "    }\n",
              "    20% {\n",
              "      border-color: transparent;\n",
              "      border-left-color: var(--fill-color);\n",
              "      border-top-color: var(--fill-color);\n",
              "    }\n",
              "    30% {\n",
              "      border-color: transparent;\n",
              "      border-left-color: var(--fill-color);\n",
              "      border-top-color: var(--fill-color);\n",
              "      border-right-color: var(--fill-color);\n",
              "    }\n",
              "    40% {\n",
              "      border-color: transparent;\n",
              "      border-right-color: var(--fill-color);\n",
              "      border-top-color: var(--fill-color);\n",
              "    }\n",
              "    60% {\n",
              "      border-color: transparent;\n",
              "      border-right-color: var(--fill-color);\n",
              "    }\n",
              "    80% {\n",
              "      border-color: transparent;\n",
              "      border-right-color: var(--fill-color);\n",
              "      border-bottom-color: var(--fill-color);\n",
              "    }\n",
              "    90% {\n",
              "      border-color: transparent;\n",
              "      border-bottom-color: var(--fill-color);\n",
              "    }\n",
              "  }\n",
              "</style>\n",
              "\n",
              "  <script>\n",
              "    async function quickchart(key) {\n",
              "      const quickchartButtonEl =\n",
              "        document.querySelector('#' + key + ' button');\n",
              "      quickchartButtonEl.disabled = true;  // To prevent multiple clicks.\n",
              "      quickchartButtonEl.classList.add('colab-df-spinner');\n",
              "      try {\n",
              "        const charts = await google.colab.kernel.invokeFunction(\n",
              "            'suggestCharts', [key], {});\n",
              "      } catch (error) {\n",
              "        console.error('Error during call to suggestCharts:', error);\n",
              "      }\n",
              "      quickchartButtonEl.classList.remove('colab-df-spinner');\n",
              "      quickchartButtonEl.classList.add('colab-df-quickchart-complete');\n",
              "    }\n",
              "    (() => {\n",
              "      let quickchartButtonEl =\n",
              "        document.querySelector('#df-0236cd7a-c4b1-45c3-8161-28108524381b button');\n",
              "      quickchartButtonEl.style.display =\n",
              "        google.colab.kernel.accessAllowed ? 'block' : 'none';\n",
              "    })();\n",
              "  </script>\n",
              "</div>\n",
              "\n",
              "    </div>\n",
              "  </div>\n"
            ],
            "application/vnd.google.colaboratory.intrinsic+json": {
              "type": "dataframe",
              "variable_name": "solana_data",
              "summary": "{\n  \"name\": \"solana_data\",\n  \"rows\": 1699,\n  \"fields\": [\n    {\n      \"column\": [\n        \"Date\",\n        \"\"\n      ],\n      \"properties\": {\n        \"dtype\": \"date\",\n        \"min\": \"2020-04-10 00:00:00+00:00\",\n        \"max\": \"2024-12-03 00:00:00+00:00\",\n        \"num_unique_values\": 1699,\n        \"samples\": [\n          \"2021-12-20 00:00:00+00:00\",\n          \"2020-08-03 00:00:00+00:00\",\n          \"2020-08-23 00:00:00+00:00\"\n        ],\n        \"semantic_type\": \"\",\n        \"description\": \"\"\n      }\n    },\n    {\n      \"column\": [\n        \"Adj Close\",\n        \"SOL-USD\"\n      ],\n      \"properties\": {\n        \"dtype\": \"number\",\n        \"std\": 66.02620209012696,\n        \"min\": 0.5152729749679565,\n        \"max\": 258.934326171875,\n        \"num_unique_values\": 1699,\n        \"samples\": [\n          173.67178344726562,\n          1.802610993385315,\n          3.3224310874938965\n        ],\n        \"semantic_type\": \"\",\n        \"description\": \"\"\n      }\n    },\n    {\n      \"column\": [\n        \"Close\",\n        \"SOL-USD\"\n      ],\n      \"properties\": {\n        \"dtype\": \"number\",\n        \"std\": 66.02620209012696,\n        \"min\": 0.5152729749679565,\n        \"max\": 258.934326171875,\n        \"num_unique_values\": 1699,\n        \"samples\": [\n          173.67178344726562,\n          1.802610993385315,\n          3.3224310874938965\n        ],\n        \"semantic_type\": \"\",\n        \"description\": \"\"\n      }\n    },\n    {\n      \"column\": [\n        \"High\",\n        \"SOL-USD\"\n      ],\n      \"properties\": {\n        \"dtype\": \"number\",\n        \"std\": 68.3391760920866,\n        \"min\": 0.5597590208053589,\n        \"max\": 263.83154296875,\n        \"num_unique_values\": 1699,\n        \"samples\": [\n          181.15325927734375,\n          1.8300340175628662,\n          3.4034149646759033\n        ],\n        \"semantic_type\": \"\",\n        \"description\": \"\"\n      }\n    },\n    {\n      \"column\": [\n        \"Low\",\n        \"SOL-USD\"\n      ],\n      \"properties\": {\n        \"dtype\": \"number\",\n        \"std\": 63.43496662253386,\n        \"min\": 0.5051940083503723,\n        \"max\": 253.18743896484375,\n        \"num_unique_values\": 1698,\n        \"samples\": [\n          178.75502014160156,\n          1.6687259674072266,\n          3.0188379287719727\n        ],\n        \"semantic_type\": \"\",\n        \"description\": \"\"\n      }\n    },\n    {\n      \"column\": [\n        \"Open\",\n        \"SOL-USD\"\n      ],\n      \"properties\": {\n        \"dtype\": \"number\",\n        \"std\": 65.95067420084362,\n        \"min\": 0.5133910179138184,\n        \"max\": 258.78155517578125,\n        \"num_unique_values\": 1699,\n        \"samples\": [\n          179.9777374267578,\n          1.7322900295257568,\n          3.0208630561828613\n        ],\n        \"semantic_type\": \"\",\n        \"description\": \"\"\n      }\n    },\n    {\n      \"column\": [\n        \"Volume\",\n        \"SOL-USD\"\n      ],\n      \"properties\": {\n        \"dtype\": \"number\",\n        \"std\": 1836288571,\n        \"min\": 652020,\n        \"max\": 17068643416,\n        \"num_unique_values\": 1699,\n        \"samples\": [\n          1982986558,\n          5836036,\n          11991402\n        ],\n        \"semantic_type\": \"\",\n        \"description\": \"\"\n      }\n    }\n  ]\n}"
            }
          },
          "metadata": {},
          "execution_count": 1
        }
      ],
      "source": [
        "import pandas as pd\n",
        "import numpy as np\n",
        "import yfinance as yf\n",
        "\n",
        "# Definisci il ticker per Solana in USD\n",
        "ticker = \"SOL-USD\"\n",
        "\n",
        "solana_data = yf.download(ticker, start=\"2020-04-10\")\n",
        "solana_data.head()\n"
      ]
    },
    {
      "cell_type": "markdown",
      "source": [
        " - Beta\n",
        "Descrizione: Misura la correlazione tra il movimento del prezzo di Solana e quello di un indice di mercato più ampio  (Bitcoin o Ethereum).\n",
        "Io terrei bitcoin\n",
        "\n",
        "- Bande di Bollinger\n",
        "Descrizione: Misurano la volatilità basandosi su una media mobile e due deviazioni standard sopra e sotto di essa.\n",
        "\n",
        "-  Sharpe Ratio (aggiunto solo a livello aggregato)\n",
        "Descrizione: Rapporto tra rendimento medio e deviazione standard dei rendimenti.\n",
        "Utile per: Misurare il rendimento aggiustato per il rischio."
      ],
      "metadata": {
        "id": "oBYgRlrYmIk5"
      }
    },
    {
      "cell_type": "markdown",
      "source": [
        "![Screenshot 2024-12-03 alle 18.43.53.png](data:image/png;base64,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)"
      ],
      "metadata": {
        "id": "kAXm08mqnyPQ"
      }
    },
    {
      "cell_type": "code",
      "source": [
        "btc_data = yf.download(\"BTC-USD\", start=\"2020-04-10\")\n"
      ],
      "metadata": {
        "colab": {
          "base_uri": "https://localhost:8080/"
        },
        "id": "Hq8IhYj4n7re",
        "outputId": "56713e26-f245-46c2-d0ae-2bf820e563a5"
      },
      "execution_count": 2,
      "outputs": [
        {
          "output_type": "stream",
          "name": "stderr",
          "text": [
            "\r[*********************100%***********************]  1 of 1 completed\n"
          ]
        }
      ]
    },
    {
      "cell_type": "code",
      "source": [
        "btc_data.head()"
      ],
      "metadata": {
        "id": "jXjfg6QqgsSf"
      },
      "execution_count": null,
      "outputs": []
    },
    {
      "cell_type": "markdown",
      "source": [
        "**Beta**"
      ],
      "metadata": {
        "id": "ThtOP5QLg5R1"
      }
    },
    {
      "cell_type": "code",
      "source": [
        "# calcolo del coefficiente Beta\n",
        "btc_close = btc_data[[\"Adj Close\"]].rename(columns={\"Adj Close\": \"BTC_Adj_Close\"})\n",
        "sol_close = solana_data[[\"Adj Close\"]].rename(columns={\"Adj Close\": \"SOL_Adj_Close\"})\n",
        "\n",
        "# concatenazione dei due dataframe\n",
        "df = pd.concat([btc_close, sol_close], axis=1)\n",
        "\n",
        "# Calcolo dei rendimenti percentuali\n",
        "df[\"BTC_Returns\"] = df[\"BTC_Adj_Close\"].pct_change()\n",
        "df[\"SOL_Returns\"] = df[\"SOL_Adj_Close\"].pct_change()\n",
        "\n",
        "# Rimuovere i valori NaN generati dal calcolo dei rendimenti\n",
        "df = df.dropna()\n",
        "\n",
        "# Calcolo della covarianza e della varianza\n",
        "cov_matrix = np.cov(df[\"SOL_Returns\"], df[\"BTC_Returns\"])\n",
        "cov_ri_rm = cov_matrix[0, 1]  # Covarianza tra i rendimenti di Solana e Bitcoin\n",
        "var_rm = cov_matrix[1, 1]  # Varianza dei rendimenti di Bitcoin\n",
        "\n",
        "# Calcolo del coefficiente Beta\n",
        "beta = cov_ri_rm / var_rm\n",
        "\n",
        "print(f\"Coefficiente Beta di Solana rispetto a Bitcoin: {beta}\")\n",
        "\n"
      ],
      "metadata": {
        "colab": {
          "base_uri": "https://localhost:8080/"
        },
        "id": "KGmohvR1ZHdZ",
        "outputId": "edf2d0c5-e45d-4516-9a69-67dda88d1a45"
      },
      "execution_count": 10,
      "outputs": [
        {
          "output_type": "stream",
          "name": "stdout",
          "text": [
            "Coefficiente Beta di Solana rispetto a Bitcoin: 1.0775235640417273\n"
          ]
        }
      ]
    },
    {
      "cell_type": "markdown",
      "source": [
        "**Bande di Bollinger**"
      ],
      "metadata": {
        "id": "7Udx3DTUhETV"
      }
    },
    {
      "cell_type": "code",
      "source": [
        "\n",
        "# Parametri per le Bande di Bollinger\n",
        "n = 20  ## questo va impostato in base al periodo dell'analisi (adesso è 20gg)\n",
        "k = 2  ## si imposta di solito a 2, perchè include circa il 95% dei movimenti dei prezzi\n",
        "\n",
        "\n",
        "# Calcolare le Bande di Bollinger per Bitcoin\n",
        "df[\"BTC_SMA\"] = df[\"BTC_Adj_Close\"].rolling(window=n).mean()\n",
        "df[\"BTC_StdDev\"] = df[\"BTC_Adj_Close\"].rolling(window=n).std()\n",
        "df[\"BTC_Upper_Band\"] = df[\"BTC_SMA\"] + k * df[\"BTC_StdDev\"]\n",
        "df[\"BTC_Lower_Band\"] = df[\"BTC_SMA\"] - k * df[\"BTC_StdDev\"]\n",
        "\n",
        "# Calcolare le Bande di Bollinger per Solana\n",
        "df[\"SOL_SMA\"] = df[\"SOL_Adj_Close\"].rolling(window=n).mean()\n",
        "df[\"SOL_StdDev\"] = df[\"SOL_Adj_Close\"].rolling(window=n).std()\n",
        "df[\"SOL_Upper_Band\"] = df[\"SOL_SMA\"] + k * df[\"SOL_StdDev\"]\n",
        "df[\"SOL_Lower_Band\"] = df[\"SOL_SMA\"] - k * df[\"SOL_StdDev\"]\n",
        "\n",
        "# Visualizzazione semplice del risultato\n",
        "bollinger_output = {\n",
        "    \"BTC_SMA\": df[\"BTC_SMA\"].dropna().iloc[-1],\n",
        "    \"BTC_Upper_Band\": df[\"BTC_Upper_Band\"].dropna().iloc[-1],\n",
        "    \"BTC_Lower_Band\": df[\"BTC_Lower_Band\"].dropna().iloc[-1],\n",
        "    \"SOL_SMA\": df[\"SOL_SMA\"].dropna().iloc[-1],\n",
        "    \"SOL_Upper_Band\": df[\"SOL_Upper_Band\"].dropna().iloc[-1],\n",
        "    \"SOL_Lower_Band\": df[\"SOL_Lower_Band\"].dropna().iloc[-1],\n",
        "}\n",
        "\n",
        "bollinger_output\n"
      ],
      "metadata": {
        "colab": {
          "base_uri": "https://localhost:8080/"
        },
        "collapsed": true,
        "id": "-EGwrrXmdco2",
        "outputId": "374a8d43-d46a-4ca5-ba28-6fed3e7361dd"
      },
      "execution_count": 18,
      "outputs": [
        {
          "output_type": "execute_result",
          "data": {
            "text/plain": [
              "{'BTC_SMA': 94445.9203125,\n",
              " 'BTC_Upper_Band': 101206.45782190378,\n",
              " 'BTC_Lower_Band': 87685.38280309623,\n",
              " 'SOL_SMA': 236.85406494140625,\n",
              " 'SOL_Upper_Band': 262.9088533625693,\n",
              " 'SOL_Lower_Band': 210.7992765202432}"
            ]
          },
          "metadata": {},
          "execution_count": 18
        }
      ]
    },
    {
      "cell_type": "markdown",
      "source": [
        "**Sharpe Ratio**"
      ],
      "metadata": {
        "id": "f2IZ0rRGhHJS"
      }
    },
    {
      "cell_type": "code",
      "source": [
        "# Parametri\n",
        "risk_free_rate = 0.02  # Tasso di rendimento privo di rischio (esempio 2% annuo)\n",
        "\n",
        "# Calcolare i rendimenti giornalieri\n",
        "df[\"BTC_Return\"] = df[\"BTC_Adj_Close\"].pct_change()\n",
        "df[\"SOL_Return\"] = df[\"SOL_Adj_Close\"].pct_change()\n",
        "\n",
        "# Rimuovere eventuali valori NaN\n",
        "df = df.dropna()\n",
        "\n",
        "# Calcolare il rendimento medio e la deviazione standard per Bitcoin\n",
        "btc_mean_return = df[\"BTC_Return\"].mean()\n",
        "btc_std_dev = df[\"BTC_Return\"].std()\n",
        "\n",
        "# Calcolare il rendimento medio e la deviazione standard per Solana\n",
        "sol_mean_return = df[\"SOL_Return\"].mean()\n",
        "sol_std_dev = df[\"SOL_Return\"].std()\n",
        "\n",
        "# Calcolare lo Sharpe Ratio per Bitcoin\n",
        "btc_sharpe_ratio = (btc_mean_return - risk_free_rate) / btc_std_dev\n",
        "\n",
        "# Calcolare lo Sharpe Ratio per Solana\n",
        "sol_sharpe_ratio = (sol_mean_return - risk_free_rate) / sol_std_dev\n",
        "\n",
        "# Risultati\n",
        "sharpe_ratios = {\n",
        "    \"BTC_Sharpe_Ratio\": btc_sharpe_ratio,\n",
        "    \"SOL_Sharpe_Ratio\": sol_sharpe_ratio,\n",
        "}\n",
        "\n",
        "sharpe_ratios\n"
      ],
      "metadata": {
        "colab": {
          "base_uri": "https://localhost:8080/"
        },
        "id": "cQw9YL4nhK2i",
        "outputId": "364a205a-10da-46d8-e4d9-b4116427ddc0"
      },
      "execution_count": 19,
      "outputs": [
        {
          "output_type": "execute_result",
          "data": {
            "text/plain": [
              "{'BTC_Sharpe_Ratio': -0.5651206718107598,\n",
              " 'SOL_Sharpe_Ratio': -0.21230871458814693}"
            ]
          },
          "metadata": {},
          "execution_count": 19
        }
      ]
    },
    {
      "cell_type": "code",
      "source": [
        "!git clone"
      ],
      "metadata": {
        "id": "iPOufcpTjU0N"
      },
      "execution_count": null,
      "outputs": []
    },
    {
      "cell_type": "code",
      "source": [
        "!git commit -m \"Calcolato tutti e tre gli indici sopra\""
      ],
      "metadata": {
        "colab": {
          "base_uri": "https://localhost:8080/"
        },
        "id": "DMa12x7mjHJP",
        "outputId": "c1611bc5-c1c5-4802-ed32-a5964ea23f78"
      },
      "execution_count": 20,
      "outputs": [
        {
          "output_type": "stream",
          "name": "stdout",
          "text": [
            "fatal: not a git repository (or any of the parent directories): .git\n"
          ]
        }
      ]
    }
  ]
}