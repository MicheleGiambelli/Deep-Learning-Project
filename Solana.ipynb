{
  "nbformat": 4,
  "nbformat_minor": 0,
  "metadata": {
    "colab": {
      "provenance": [],
      "gpuType": "T4",
      "include_colab_link": true
    },
    "kernelspec": {
      "name": "python3",
      "display_name": "Python 3"
    },
    "language_info": {
      "name": "python"
    },
    "accelerator": "GPU"
  },
  "cells": [
    {
      "cell_type": "markdown",
      "metadata": {
        "id": "view-in-github",
        "colab_type": "text"
      },
      "source": [
        "<a href=\"https://colab.research.google.com/github/MicheleGiambelli/Deep-Learning-Project/blob/Matteo/Solana.ipynb\" target=\"_parent\"><img src=\"https://colab.research.google.com/assets/colab-badge.svg\" alt=\"Open In Colab\"/></a>"
      ]
    },
    {
      "cell_type": "code",
      "source": [
        "import pandas as pd\n",
        "import numpy as np\n",
        "import yfinance as yf\n",
        "from google.colab import files\n",
        "from torch import nn"
      ],
      "metadata": {
        "id": "QvIMaRqtTCHm"
      },
      "execution_count": 3,
      "outputs": []
    },
    {
      "cell_type": "code",
      "source": [
        "ticker = \"SOL-USD\"\n",
        "btc_ticker = \"BTC-USD\"\n",
        "\n",
        "solana_data = yf.download(ticker, start=\"2020-04-10\")\n",
        "btc_data = yf.download(btc_ticker, start=\"2020-04-10\")"
      ],
      "metadata": {
        "colab": {
          "base_uri": "https://localhost:8080/"
        },
        "id": "gKIIBGL8TENu",
        "outputId": "0d4a2454-d001-4748-e411-1c4263a113d9"
      },
      "execution_count": 4,
      "outputs": [
        {
          "output_type": "stream",
          "name": "stderr",
          "text": [
            "[*********************100%***********************]  1 of 1 completed\n",
            "[*********************100%***********************]  1 of 1 completed\n"
          ]
        }
      ]
    },
    {
      "cell_type": "code",
      "execution_count": 5,
      "metadata": {
        "id": "zmXdQ5LaS7Sk"
      },
      "outputs": [],
      "source": [
        "\n",
        "# Ensure the columns are renamed every time this cell is run\n",
        "solana_data = solana_data.rename(columns={\"Adj Close\": \"SOL_Adj_Close\"})\n",
        "btc_data = btc_data.rename(columns={\"Adj Close\": \"BTC_Adj_Close\"})\n",
        "\n",
        "# Unione dei dati\n",
        "# Instead of selecting individual columns, use the renamed dataframes directly\n",
        "df = pd.concat([solana_data, btc_data], axis=1)\n",
        "df = df.dropna()\n",
        "\n",
        "# Calcolo dei rendimenti giornalieri\n",
        "df[\"SOL_Return\"] = df[\"SOL_Adj_Close\"].pct_change()\n",
        "df[\"BTC_Return\"] = df[\"BTC_Adj_Close\"].pct_change()\n",
        "\n",
        "# Funzione per calcolare Beta\n",
        "def rolling_beta(df, window):\n",
        "    cov = df[\"SOL_Return\"].rolling(window).cov(df[\"BTC_Return\"])\n",
        "    var = df[\"BTC_Return\"].rolling(window).var()\n",
        "    return cov / var\n",
        "\n",
        "# Define n before using it in rolling_beta\n",
        "n = 20  # For example, a 20-day rolling window for beta calculation\n",
        "\n",
        "# Aggiungere Beta\n",
        "df[\"Beta\"] = rolling_beta(df, n)\n",
        "df = df.dropna()\n"
      ]
    },
    {
      "cell_type": "code",
      "source": [
        "n = 20  # Periodo per bande di Bollinger e Beta\n",
        "k = 2  # Deviazioni standard per bande di Bollinger\n",
        "\n",
        "# Calcolo Bande di Bollinger\n",
        "df[\"SMA\"] = df[\"SOL_Adj_Close\"].rolling(window=n).mean()\n",
        "df[\"StdDev\"] = df[\"SOL_Adj_Close\"].rolling(window=n).std()\n",
        "df[\"Upper_Band\"] = df[\"SMA\"] + k * df[\"StdDev\"]\n",
        "df[\"Lower_Band\"] = df[\"SMA\"] - k * df[\"StdDev\"]\n",
        "df = df.dropna()\n"
      ],
      "metadata": {
        "id": "r-15QOT7TgMG"
      },
      "execution_count": 6,
      "outputs": []
    },
    {
      "cell_type": "code",
      "source": [
        "def rolling_sharpe_ratio(df, window, risk_free_rate):\n",
        "    rolling_mean = df[\"SOL_Return\"].rolling(window).mean()\n",
        "    rolling_std = df[\"SOL_Return\"].rolling(window).std()\n",
        "    return (rolling_mean - risk_free_rate) / rolling_std\n",
        "risk_free_rate = 0.01\n",
        "# Aggiungere Sharpe Ratio\n",
        "df[\"Sharpe_Ratio\"] = rolling_sharpe_ratio(df, n, risk_free_rate)\n",
        "df = df.dropna()\n"
      ],
      "metadata": {
        "id": "RggixdgRVy3Z"
      },
      "execution_count": 7,
      "outputs": []
    },
    {
      "cell_type": "code",
      "source": [
        "df.drop(df.columns[[6,7,8,9,10,11,13]], axis=1, inplace=True) # tolgo le colonne relative a BTC che non mi servono\n",
        "df.head()"
      ],
      "metadata": {
        "colab": {
          "base_uri": "https://localhost:8080/",
          "height": 268
        },
        "id": "si5DUOB9UDXJ",
        "outputId": "09abfa4e-ccd0-4f0a-91b5-9348138c7778",
        "collapsed": true
      },
      "execution_count": 8,
      "outputs": [
        {
          "output_type": "execute_result",
          "data": {
            "text/plain": [
              "Price                     SOL_Adj_Close     Close      High       Low  \\\n",
              "Ticker                          SOL-USD   SOL-USD   SOL-USD   SOL-USD   \n",
              "Date                                                                    \n",
              "2020-06-07 00:00:00+00:00      0.616578  0.616578  0.624444  0.593398   \n",
              "2020-06-08 00:00:00+00:00      0.668313  0.668313  0.679001  0.613310   \n",
              "2020-06-09 00:00:00+00:00      0.658002  0.658002  0.668088  0.627242   \n",
              "2020-06-10 00:00:00+00:00      0.644867  0.644867  0.670043  0.633404   \n",
              "2020-06-11 00:00:00+00:00      0.573742  0.573742  0.650535  0.570082   \n",
              "\n",
              "Price                          Open   Volume SOL_Return      Beta       SMA  \\\n",
              "Ticker                      SOL-USD  SOL-USD                                  \n",
              "Date                                                                          \n",
              "2020-06-07 00:00:00+00:00  0.622443   716785  -0.009423  0.427358  0.595371   \n",
              "2020-06-08 00:00:00+00:00  0.615078  1440234   0.083907  0.428930  0.597564   \n",
              "2020-06-09 00:00:00+00:00  0.667784   988327  -0.015428  0.346123  0.601506   \n",
              "2020-06-10 00:00:00+00:00  0.658038  1096203  -0.019962  0.524364  0.603304   \n",
              "2020-06-11 00:00:00+00:00  0.644888  1122221  -0.110294  0.739265  0.600047   \n",
              "\n",
              "Price                        StdDev Upper_Band Lower_Band Sharpe_Ratio  \n",
              "Ticker                                                                  \n",
              "Date                                                                    \n",
              "2020-06-07 00:00:00+00:00  0.027581   0.650533   0.540209    -0.201951  \n",
              "2020-06-08 00:00:00+00:00  0.031483   0.660529   0.534599    -0.085599  \n",
              "2020-06-09 00:00:00+00:00  0.033900   0.669306   0.533706    -0.038440  \n",
              "2020-06-10 00:00:00+00:00  0.035240   0.673784   0.532823    -0.103663  \n",
              "2020-06-11 00:00:00+00:00  0.034787   0.669620   0.530474    -0.229623  "
            ],
            "text/html": [
              "\n",
              "  <div id=\"df-f6f6d66a-2035-41a9-988c-c24a01d6cfab\" class=\"colab-df-container\">\n",
              "    <div>\n",
              "<style scoped>\n",
              "    .dataframe tbody tr th:only-of-type {\n",
              "        vertical-align: middle;\n",
              "    }\n",
              "\n",
              "    .dataframe tbody tr th {\n",
              "        vertical-align: top;\n",
              "    }\n",
              "\n",
              "    .dataframe thead tr th {\n",
              "        text-align: left;\n",
              "    }\n",
              "\n",
              "    .dataframe thead tr:last-of-type th {\n",
              "        text-align: right;\n",
              "    }\n",
              "</style>\n",
              "<table border=\"1\" class=\"dataframe\">\n",
              "  <thead>\n",
              "    <tr>\n",
              "      <th>Price</th>\n",
              "      <th>SOL_Adj_Close</th>\n",
              "      <th>Close</th>\n",
              "      <th>High</th>\n",
              "      <th>Low</th>\n",
              "      <th>Open</th>\n",
              "      <th>Volume</th>\n",
              "      <th>SOL_Return</th>\n",
              "      <th>Beta</th>\n",
              "      <th>SMA</th>\n",
              "      <th>StdDev</th>\n",
              "      <th>Upper_Band</th>\n",
              "      <th>Lower_Band</th>\n",
              "      <th>Sharpe_Ratio</th>\n",
              "    </tr>\n",
              "    <tr>\n",
              "      <th>Ticker</th>\n",
              "      <th>SOL-USD</th>\n",
              "      <th>SOL-USD</th>\n",
              "      <th>SOL-USD</th>\n",
              "      <th>SOL-USD</th>\n",
              "      <th>SOL-USD</th>\n",
              "      <th>SOL-USD</th>\n",
              "      <th></th>\n",
              "      <th></th>\n",
              "      <th></th>\n",
              "      <th></th>\n",
              "      <th></th>\n",
              "      <th></th>\n",
              "      <th></th>\n",
              "    </tr>\n",
              "    <tr>\n",
              "      <th>Date</th>\n",
              "      <th></th>\n",
              "      <th></th>\n",
              "      <th></th>\n",
              "      <th></th>\n",
              "      <th></th>\n",
              "      <th></th>\n",
              "      <th></th>\n",
              "      <th></th>\n",
              "      <th></th>\n",
              "      <th></th>\n",
              "      <th></th>\n",
              "      <th></th>\n",
              "      <th></th>\n",
              "    </tr>\n",
              "  </thead>\n",
              "  <tbody>\n",
              "    <tr>\n",
              "      <th>2020-06-07 00:00:00+00:00</th>\n",
              "      <td>0.616578</td>\n",
              "      <td>0.616578</td>\n",
              "      <td>0.624444</td>\n",
              "      <td>0.593398</td>\n",
              "      <td>0.622443</td>\n",
              "      <td>716785</td>\n",
              "      <td>-0.009423</td>\n",
              "      <td>0.427358</td>\n",
              "      <td>0.595371</td>\n",
              "      <td>0.027581</td>\n",
              "      <td>0.650533</td>\n",
              "      <td>0.540209</td>\n",
              "      <td>-0.201951</td>\n",
              "    </tr>\n",
              "    <tr>\n",
              "      <th>2020-06-08 00:00:00+00:00</th>\n",
              "      <td>0.668313</td>\n",
              "      <td>0.668313</td>\n",
              "      <td>0.679001</td>\n",
              "      <td>0.613310</td>\n",
              "      <td>0.615078</td>\n",
              "      <td>1440234</td>\n",
              "      <td>0.083907</td>\n",
              "      <td>0.428930</td>\n",
              "      <td>0.597564</td>\n",
              "      <td>0.031483</td>\n",
              "      <td>0.660529</td>\n",
              "      <td>0.534599</td>\n",
              "      <td>-0.085599</td>\n",
              "    </tr>\n",
              "    <tr>\n",
              "      <th>2020-06-09 00:00:00+00:00</th>\n",
              "      <td>0.658002</td>\n",
              "      <td>0.658002</td>\n",
              "      <td>0.668088</td>\n",
              "      <td>0.627242</td>\n",
              "      <td>0.667784</td>\n",
              "      <td>988327</td>\n",
              "      <td>-0.015428</td>\n",
              "      <td>0.346123</td>\n",
              "      <td>0.601506</td>\n",
              "      <td>0.033900</td>\n",
              "      <td>0.669306</td>\n",
              "      <td>0.533706</td>\n",
              "      <td>-0.038440</td>\n",
              "    </tr>\n",
              "    <tr>\n",
              "      <th>2020-06-10 00:00:00+00:00</th>\n",
              "      <td>0.644867</td>\n",
              "      <td>0.644867</td>\n",
              "      <td>0.670043</td>\n",
              "      <td>0.633404</td>\n",
              "      <td>0.658038</td>\n",
              "      <td>1096203</td>\n",
              "      <td>-0.019962</td>\n",
              "      <td>0.524364</td>\n",
              "      <td>0.603304</td>\n",
              "      <td>0.035240</td>\n",
              "      <td>0.673784</td>\n",
              "      <td>0.532823</td>\n",
              "      <td>-0.103663</td>\n",
              "    </tr>\n",
              "    <tr>\n",
              "      <th>2020-06-11 00:00:00+00:00</th>\n",
              "      <td>0.573742</td>\n",
              "      <td>0.573742</td>\n",
              "      <td>0.650535</td>\n",
              "      <td>0.570082</td>\n",
              "      <td>0.644888</td>\n",
              "      <td>1122221</td>\n",
              "      <td>-0.110294</td>\n",
              "      <td>0.739265</td>\n",
              "      <td>0.600047</td>\n",
              "      <td>0.034787</td>\n",
              "      <td>0.669620</td>\n",
              "      <td>0.530474</td>\n",
              "      <td>-0.229623</td>\n",
              "    </tr>\n",
              "  </tbody>\n",
              "</table>\n",
              "</div>\n",
              "    <div class=\"colab-df-buttons\">\n",
              "\n",
              "  <div class=\"colab-df-container\">\n",
              "    <button class=\"colab-df-convert\" onclick=\"convertToInteractive('df-f6f6d66a-2035-41a9-988c-c24a01d6cfab')\"\n",
              "            title=\"Convert this dataframe to an interactive table.\"\n",
              "            style=\"display:none;\">\n",
              "\n",
              "  <svg xmlns=\"http://www.w3.org/2000/svg\" height=\"24px\" viewBox=\"0 -960 960 960\">\n",
              "    <path d=\"M120-120v-720h720v720H120Zm60-500h600v-160H180v160Zm220 220h160v-160H400v160Zm0 220h160v-160H400v160ZM180-400h160v-160H180v160Zm440 0h160v-160H620v160ZM180-180h160v-160H180v160Zm440 0h160v-160H620v160Z\"/>\n",
              "  </svg>\n",
              "    </button>\n",
              "\n",
              "  <style>\n",
              "    .colab-df-container {\n",
              "      display:flex;\n",
              "      gap: 12px;\n",
              "    }\n",
              "\n",
              "    .colab-df-convert {\n",
              "      background-color: #E8F0FE;\n",
              "      border: none;\n",
              "      border-radius: 50%;\n",
              "      cursor: pointer;\n",
              "      display: none;\n",
              "      fill: #1967D2;\n",
              "      height: 32px;\n",
              "      padding: 0 0 0 0;\n",
              "      width: 32px;\n",
              "    }\n",
              "\n",
              "    .colab-df-convert:hover {\n",
              "      background-color: #E2EBFA;\n",
              "      box-shadow: 0px 1px 2px rgba(60, 64, 67, 0.3), 0px 1px 3px 1px rgba(60, 64, 67, 0.15);\n",
              "      fill: #174EA6;\n",
              "    }\n",
              "\n",
              "    .colab-df-buttons div {\n",
              "      margin-bottom: 4px;\n",
              "    }\n",
              "\n",
              "    [theme=dark] .colab-df-convert {\n",
              "      background-color: #3B4455;\n",
              "      fill: #D2E3FC;\n",
              "    }\n",
              "\n",
              "    [theme=dark] .colab-df-convert:hover {\n",
              "      background-color: #434B5C;\n",
              "      box-shadow: 0px 1px 3px 1px rgba(0, 0, 0, 0.15);\n",
              "      filter: drop-shadow(0px 1px 2px rgba(0, 0, 0, 0.3));\n",
              "      fill: #FFFFFF;\n",
              "    }\n",
              "  </style>\n",
              "\n",
              "    <script>\n",
              "      const buttonEl =\n",
              "        document.querySelector('#df-f6f6d66a-2035-41a9-988c-c24a01d6cfab button.colab-df-convert');\n",
              "      buttonEl.style.display =\n",
              "        google.colab.kernel.accessAllowed ? 'block' : 'none';\n",
              "\n",
              "      async function convertToInteractive(key) {\n",
              "        const element = document.querySelector('#df-f6f6d66a-2035-41a9-988c-c24a01d6cfab');\n",
              "        const dataTable =\n",
              "          await google.colab.kernel.invokeFunction('convertToInteractive',\n",
              "                                                    [key], {});\n",
              "        if (!dataTable) return;\n",
              "\n",
              "        const docLinkHtml = 'Like what you see? Visit the ' +\n",
              "          '<a target=\"_blank\" href=https://colab.research.google.com/notebooks/data_table.ipynb>data table notebook</a>'\n",
              "          + ' to learn more about interactive tables.';\n",
              "        element.innerHTML = '';\n",
              "        dataTable['output_type'] = 'display_data';\n",
              "        await google.colab.output.renderOutput(dataTable, element);\n",
              "        const docLink = document.createElement('div');\n",
              "        docLink.innerHTML = docLinkHtml;\n",
              "        element.appendChild(docLink);\n",
              "      }\n",
              "    </script>\n",
              "  </div>\n",
              "\n",
              "\n",
              "<div id=\"df-425c6d6d-1632-4505-8a83-8015fef18aa1\">\n",
              "  <button class=\"colab-df-quickchart\" onclick=\"quickchart('df-425c6d6d-1632-4505-8a83-8015fef18aa1')\"\n",
              "            title=\"Suggest charts\"\n",
              "            style=\"display:none;\">\n",
              "\n",
              "<svg xmlns=\"http://www.w3.org/2000/svg\" height=\"24px\"viewBox=\"0 0 24 24\"\n",
              "     width=\"24px\">\n",
              "    <g>\n",
              "        <path d=\"M19 3H5c-1.1 0-2 .9-2 2v14c0 1.1.9 2 2 2h14c1.1 0 2-.9 2-2V5c0-1.1-.9-2-2-2zM9 17H7v-7h2v7zm4 0h-2V7h2v10zm4 0h-2v-4h2v4z\"/>\n",
              "    </g>\n",
              "</svg>\n",
              "  </button>\n",
              "\n",
              "<style>\n",
              "  .colab-df-quickchart {\n",
              "      --bg-color: #E8F0FE;\n",
              "      --fill-color: #1967D2;\n",
              "      --hover-bg-color: #E2EBFA;\n",
              "      --hover-fill-color: #174EA6;\n",
              "      --disabled-fill-color: #AAA;\n",
              "      --disabled-bg-color: #DDD;\n",
              "  }\n",
              "\n",
              "  [theme=dark] .colab-df-quickchart {\n",
              "      --bg-color: #3B4455;\n",
              "      --fill-color: #D2E3FC;\n",
              "      --hover-bg-color: #434B5C;\n",
              "      --hover-fill-color: #FFFFFF;\n",
              "      --disabled-bg-color: #3B4455;\n",
              "      --disabled-fill-color: #666;\n",
              "  }\n",
              "\n",
              "  .colab-df-quickchart {\n",
              "    background-color: var(--bg-color);\n",
              "    border: none;\n",
              "    border-radius: 50%;\n",
              "    cursor: pointer;\n",
              "    display: none;\n",
              "    fill: var(--fill-color);\n",
              "    height: 32px;\n",
              "    padding: 0;\n",
              "    width: 32px;\n",
              "  }\n",
              "\n",
              "  .colab-df-quickchart:hover {\n",
              "    background-color: var(--hover-bg-color);\n",
              "    box-shadow: 0 1px 2px rgba(60, 64, 67, 0.3), 0 1px 3px 1px rgba(60, 64, 67, 0.15);\n",
              "    fill: var(--button-hover-fill-color);\n",
              "  }\n",
              "\n",
              "  .colab-df-quickchart-complete:disabled,\n",
              "  .colab-df-quickchart-complete:disabled:hover {\n",
              "    background-color: var(--disabled-bg-color);\n",
              "    fill: var(--disabled-fill-color);\n",
              "    box-shadow: none;\n",
              "  }\n",
              "\n",
              "  .colab-df-spinner {\n",
              "    border: 2px solid var(--fill-color);\n",
              "    border-color: transparent;\n",
              "    border-bottom-color: var(--fill-color);\n",
              "    animation:\n",
              "      spin 1s steps(1) infinite;\n",
              "  }\n",
              "\n",
              "  @keyframes spin {\n",
              "    0% {\n",
              "      border-color: transparent;\n",
              "      border-bottom-color: var(--fill-color);\n",
              "      border-left-color: var(--fill-color);\n",
              "    }\n",
              "    20% {\n",
              "      border-color: transparent;\n",
              "      border-left-color: var(--fill-color);\n",
              "      border-top-color: var(--fill-color);\n",
              "    }\n",
              "    30% {\n",
              "      border-color: transparent;\n",
              "      border-left-color: var(--fill-color);\n",
              "      border-top-color: var(--fill-color);\n",
              "      border-right-color: var(--fill-color);\n",
              "    }\n",
              "    40% {\n",
              "      border-color: transparent;\n",
              "      border-right-color: var(--fill-color);\n",
              "      border-top-color: var(--fill-color);\n",
              "    }\n",
              "    60% {\n",
              "      border-color: transparent;\n",
              "      border-right-color: var(--fill-color);\n",
              "    }\n",
              "    80% {\n",
              "      border-color: transparent;\n",
              "      border-right-color: var(--fill-color);\n",
              "      border-bottom-color: var(--fill-color);\n",
              "    }\n",
              "    90% {\n",
              "      border-color: transparent;\n",
              "      border-bottom-color: var(--fill-color);\n",
              "    }\n",
              "  }\n",
              "</style>\n",
              "\n",
              "  <script>\n",
              "    async function quickchart(key) {\n",
              "      const quickchartButtonEl =\n",
              "        document.querySelector('#' + key + ' button');\n",
              "      quickchartButtonEl.disabled = true;  // To prevent multiple clicks.\n",
              "      quickchartButtonEl.classList.add('colab-df-spinner');\n",
              "      try {\n",
              "        const charts = await google.colab.kernel.invokeFunction(\n",
              "            'suggestCharts', [key], {});\n",
              "      } catch (error) {\n",
              "        console.error('Error during call to suggestCharts:', error);\n",
              "      }\n",
              "      quickchartButtonEl.classList.remove('colab-df-spinner');\n",
              "      quickchartButtonEl.classList.add('colab-df-quickchart-complete');\n",
              "    }\n",
              "    (() => {\n",
              "      let quickchartButtonEl =\n",
              "        document.querySelector('#df-425c6d6d-1632-4505-8a83-8015fef18aa1 button');\n",
              "      quickchartButtonEl.style.display =\n",
              "        google.colab.kernel.accessAllowed ? 'block' : 'none';\n",
              "    })();\n",
              "  </script>\n",
              "</div>\n",
              "\n",
              "    </div>\n",
              "  </div>\n"
            ],
            "application/vnd.google.colaboratory.intrinsic+json": {
              "type": "dataframe",
              "variable_name": "df",
              "summary": "{\n  \"name\": \"df\",\n  \"rows\": 1643,\n  \"fields\": [\n    {\n      \"column\": [\n        \"Date\",\n        \"\"\n      ],\n      \"properties\": {\n        \"dtype\": \"date\",\n        \"min\": \"2020-06-07 00:00:00+00:00\",\n        \"max\": \"2024-12-05 00:00:00+00:00\",\n        \"num_unique_values\": 1643,\n        \"samples\": [\n          \"2022-04-15 00:00:00+00:00\",\n          \"2023-06-12 00:00:00+00:00\",\n          \"2024-01-07 00:00:00+00:00\"\n        ],\n        \"semantic_type\": \"\",\n        \"description\": \"\"\n      }\n    },\n    {\n      \"column\": [\n        \"SOL_Adj_Close\",\n        \"SOL-USD\"\n      ],\n      \"properties\": {\n        \"dtype\": \"number\",\n        \"std\": 66.217180447454,\n        \"min\": 0.5706390142440796,\n        \"max\": 258.934326171875,\n        \"num_unique_values\": 1643,\n        \"samples\": [\n          101.30977630615234,\n          15.196707725524902,\n          89.2763442993164\n        ],\n        \"semantic_type\": \"\",\n        \"description\": \"\"\n      }\n    },\n    {\n      \"column\": [\n        \"Close\",\n        \"SOL-USD\"\n      ],\n      \"properties\": {\n        \"dtype\": \"number\",\n        \"std\": 66.217180447454,\n        \"min\": 0.5706390142440796,\n        \"max\": 258.934326171875,\n        \"num_unique_values\": 1643,\n        \"samples\": [\n          101.30977630615234,\n          15.196707725524902,\n          89.2763442993164\n        ],\n        \"semantic_type\": \"\",\n        \"description\": \"\"\n      }\n    },\n    {\n      \"column\": [\n        \"High\",\n        \"SOL-USD\"\n      ],\n      \"properties\": {\n        \"dtype\": \"number\",\n        \"std\": 68.53382374783568,\n        \"min\": 0.5898280143737793,\n        \"max\": 263.83154296875,\n        \"num_unique_values\": 1643,\n        \"samples\": [\n          102.67264556884766,\n          15.606237411499023,\n          96.69239807128906\n        ],\n        \"semantic_type\": \"\",\n        \"description\": \"\"\n      }\n    },\n    {\n      \"column\": [\n        \"Low\",\n        \"SOL-USD\"\n      ],\n      \"properties\": {\n        \"dtype\": \"number\",\n        \"std\": 63.61689807383466,\n        \"min\": 0.5472869873046875,\n        \"max\": 253.18743896484375,\n        \"num_unique_values\": 1642,\n        \"samples\": [\n          100.10089874267578,\n          100.55369567871094,\n          22.153913497924805\n        ],\n        \"semantic_type\": \"\",\n        \"description\": \"\"\n      }\n    },\n    {\n      \"column\": [\n        \"Open\",\n        \"SOL-USD\"\n      ],\n      \"properties\": {\n        \"dtype\": \"number\",\n        \"std\": 66.13123768191163,\n        \"min\": 0.5705789923667908,\n        \"max\": 258.78155517578125,\n        \"num_unique_values\": 1643,\n        \"samples\": [\n          100.70652770996094,\n          15.557231903076172,\n          93.8603515625\n        ],\n        \"semantic_type\": \"\",\n        \"description\": \"\"\n      }\n    },\n    {\n      \"column\": [\n        \"Volume\",\n        \"SOL-USD\"\n      ],\n      \"properties\": {\n        \"dtype\": \"number\",\n        \"std\": 1859145969,\n        \"min\": 652020,\n        \"max\": 17068643416,\n        \"num_unique_values\": 1643,\n        \"samples\": [\n          1050639351,\n          384209938,\n          2288061692\n        ],\n        \"semantic_type\": \"\",\n        \"description\": \"\"\n      }\n    },\n    {\n      \"column\": [\n        \"SOL_Return\",\n        \"\"\n      ],\n      \"properties\": {\n        \"dtype\": \"number\",\n        \"std\": 0.06776158403703503,\n        \"min\": -0.4228090368113009,\n        \"max\": 0.4728278503308343,\n        \"num_unique_values\": 1643,\n        \"samples\": [\n          0.005977436468998842,\n          -0.02327099371794239,\n          -0.0488119160609648\n        ],\n        \"semantic_type\": \"\",\n        \"description\": \"\"\n      }\n    },\n    {\n      \"column\": [\n        \"Beta\",\n        \"\"\n      ],\n      \"properties\": {\n        \"dtype\": \"number\",\n        \"std\": 0.6902910110564516,\n        \"min\": -1.7336492413990903,\n        \"max\": 4.9057313734445644,\n        \"num_unique_values\": 1643,\n        \"samples\": [\n          1.5857674598452685,\n          1.1689148500883826,\n          1.6401644328666407\n        ],\n        \"semantic_type\": \"\",\n        \"description\": \"\"\n      }\n    },\n    {\n      \"column\": [\n        \"SMA\",\n        \"\"\n      ],\n      \"properties\": {\n        \"dtype\": \"number\",\n        \"std\": 64.49144257575345,\n        \"min\": 0.5953709006309509,\n        \"max\": 239.07503509521484,\n        \"num_unique_values\": 1643,\n        \"samples\": [\n          115.3580883026123,\n          19.4141565322876,\n          101.13188323974609\n        ],\n        \"semantic_type\": \"\",\n        \"description\": \"\"\n      }\n    },\n    {\n      \"column\": [\n        \"StdDev\",\n        \"\"\n      ],\n      \"properties\": {\n        \"dtype\": \"number\",\n        \"std\": 6.865262996548386,\n        \"min\": 0.027580882484290914,\n        \"max\": 41.9771533393623,\n        \"num_unique_values\": 1643,\n        \"samples\": [\n          12.05400324268723,\n          2.004324620500641,\n          10.997920128351414\n        ],\n        \"semantic_type\": \"\",\n        \"description\": \"\"\n      }\n    },\n    {\n      \"column\": [\n        \"Upper_Band\",\n        \"\"\n      ],\n      \"properties\": {\n        \"dtype\": \"number\",\n        \"std\": 75.8289711169252,\n        \"min\": 0.6505326655995327,\n        \"max\": 271.72830817528927,\n        \"num_unique_values\": 1643,\n        \"samples\": [\n          139.46609478798678,\n          23.422805773288882,\n          123.12772349644891\n        ],\n        \"semantic_type\": \"\",\n        \"description\": \"\"\n      }\n    },\n    {\n      \"column\": [\n        \"Lower_Band\",\n        \"\"\n      ],\n      \"properties\": {\n        \"dtype\": \"number\",\n        \"std\": 54.27074864460734,\n        \"min\": 0.4973684141239937,\n        \"max\": 218.24082799405693,\n        \"num_unique_values\": 1643,\n        \"samples\": [\n          91.25008181723784,\n          15.405507291286316,\n          79.13604298304327\n        ],\n        \"semantic_type\": \"\",\n        \"description\": \"\"\n      }\n    },\n    {\n      \"column\": [\n        \"Sharpe_Ratio\",\n        \"\"\n      ],\n      \"properties\": {\n        \"dtype\": \"number\",\n        \"std\": 0.2780721444250433,\n        \"min\": -0.7930020271025044,\n        \"max\": 0.6808430420358316,\n        \"num_unique_values\": 1643,\n        \"samples\": [\n          -0.1499705644083428,\n          -0.5146892583976307,\n          0.020467398874488667\n        ],\n        \"semantic_type\": \"\",\n        \"description\": \"\"\n      }\n    }\n  ]\n}"
            }
          },
          "metadata": {},
          "execution_count": 8
        }
      ]
    },
    {
      "cell_type": "markdown",
      "source": [
        "**<h1>Pytorch Dataset</h1>**"
      ],
      "metadata": {
        "id": "C4MRR0d1i_B2"
      }
    },
    {
      "cell_type": "markdown",
      "source": [
        "### Description of the Code below\n",
        "\n",
        "This code demonstrates how to preprocess a dataset stored in a Pandas DataFrame and transform it into a format suitable for use with PyTorch, while ensuring the data can be efficiently loaded in batches for training or inference.\n",
        "\n",
        "1. **Feature and Target Definition**:\n",
        "   - The column `Close` is chosen as the target variable (`y`), representing the Solana price.\n",
        "   - The remaining columns are used as the feature set (`X`).\n",
        "\n",
        "2. **Feature Normalization**:\n",
        "   - The features are scaled using `StandardScaler` from `sklearn` to ensure they have zero mean and unit variance. This helps improve the stability and convergence of training neural networks.\n",
        "\n",
        "3. **Conversion to PyTorch Tensors**:\n",
        "   - The normalized features (`X`) are converted into a PyTorch tensor of type `torch.float32`.\n",
        "   - The target (`y`) is similarly converted into a tensor, reshaped to have a shape of `(-1, 1)` to align with PyTorch's supervised learning expectations.\n",
        "\n",
        "4. **Custom DataLoader Function**:\n",
        "   - A function, `load_array`, is defined to create a PyTorch `DataLoader`. This function:\n",
        "     - Accepts `data_arrays` (a tuple of feature and target tensors).\n",
        "     - Uses unpacking (`*data_arrays`) to pass the tensors dynamically to `TensorDataset`.\n",
        "     - Returns a `DataLoader` with a specified batch size.\n",
        "     - Includes the `is_train` parameter to control whether data shuffling is enabled. Here, it defaults to `False` to maintain the historical order of the data.\n",
        "\n",
        "5. **Batch Loading**:\n",
        "   - The tensors for features (`X_tensor`) and target (`y_tensor`) are packed into a tuple `data_arrays`.\n",
        "   - A `DataLoader` is created with a batch size of 32, ensuring that the data is processed in manageable chunks.\n",
        "\n",
        "This code is well-suited for historical data processing (e.g., time-series or financial data) where the order of data is important, thanks to the use of `shuffle=False`. The preprocessing ensures the dataset is ready for efficient model training or evaluation in PyTorch."
      ],
      "metadata": {
        "id": "rbwnon3cuNL-"
      }
    },
    {
      "cell_type": "code",
      "source": [
        "import torch\n",
        "from torch.utils.data import TensorDataset, DataLoader\n",
        "from sklearn.preprocessing import StandardScaler\n",
        "\n",
        "# Assume your DataFrame pandas is named `df`\n",
        "# Define 'Close' as the target and the rest as features\n",
        "X = df.drop(columns=['Close'], level = 0).values  # Features\n",
        "y = df['Close'].values  # Target\n",
        "\n",
        "# Normalize the features, referring to the same numerical scale\n",
        "scaler = StandardScaler()\n",
        "X_normalized = scaler.fit_transform(X)\n",
        "y_normalized = scaler.fit_transform(y.reshape(-1, 1))\n",
        "\n",
        "# Convert to PyTorch tensors\n",
        "X_tensor = torch.tensor(X_normalized, dtype=torch.float32)\n",
        "y_tensor = torch.tensor(y_normalized, dtype=torch.float32)\n",
        "\n",
        "# Create sequences\n",
        "sequence_length = 5\n",
        "X_sequences = []\n",
        "y_sequences = []\n",
        "\n",
        "for i in range(len(X_normalized) - sequence_length):\n",
        "    X_seq = X_normalized[i:i + sequence_length]\n",
        "    y_seq = y[i + sequence_length]\n",
        "    X_sequences.append(X_seq)\n",
        "    y_sequences.append(y_seq)\n",
        "\n",
        "X_sequences = np.array(X_sequences)\n",
        "y_sequences = np.array(y_sequences)\n",
        "\n",
        "X_tensor = torch.tensor(X_sequences, dtype=torch.float32)\n",
        "y_tensor = torch.tensor(y_sequences, dtype=torch.float32)\n",
        "\n",
        "# Suddivisione in training e validation set\n",
        "# Suddivisione temporale del dataset\n",
        "n = len(X_tensor)\n",
        "\n",
        "# Percentuali di suddivisione\n",
        "train_split = int(n * 0.7)  # Prime 70% osservazioni per il training\n",
        "val_split = int(n * 0.9)    # Successive 20% osservazioni per la validation\n",
        "test_split = n              # Ultime 10% osservazioni per il test\n",
        "\n",
        "train_dataset = (X_tensor[:train_split], y_tensor[:train_split])\n",
        "val_dataset = (X_tensor[train_split:val_split], y_tensor[train_split:val_split])\n",
        "test_dataset = (X_tensor[val_split:test_split], y_tensor[val_split:test_split])\n",
        "\n",
        "# Define a function for loading data with unpacking\n",
        "def load_array(data_arrays, batch_size, is_train=False): # False because we want to read the data historically\n",
        "    \"\"\"Construct a PyTorch DataLoader.\"\"\"\n",
        "    dataset = TensorDataset(*data_arrays)  # Unpacking the tensors\n",
        "    return DataLoader(dataset, batch_size=batch_size, shuffle=is_train)\n",
        "\n",
        "# Create the DataLoader\n",
        "data_arrays = (X_tensor, y_tensor)  # Pack tensors into a tuple\n",
        "batch_size = 32\n",
        "train_loader = load_array(train_dataset, batch_size)\n",
        "valid_loader = load_array(val_dataset, batch_size)\n",
        "test_loader = load_array(test_dataset, batch_size)\n"
      ],
      "metadata": {
        "id": "z3GjpGRSi-Zx"
      },
      "execution_count": 38,
      "outputs": []
    },
    {
      "cell_type": "code",
      "source": [
        "\n",
        "batch_X, batch_y = next(iter(train_loader))\n",
        "print(batch_X.shape)  # Expected: torch.Size([32, 10, 12])\n",
        "print(batch_y.shape)"
      ],
      "metadata": {
        "id": "Q-WDl08Gp6Zc",
        "outputId": "4ff9e2dd-6969-4ea2-8bd5-bbcf14540eec",
        "colab": {
          "base_uri": "https://localhost:8080/"
        }
      },
      "execution_count": 43,
      "outputs": [
        {
          "output_type": "stream",
          "name": "stdout",
          "text": [
            "torch.Size([32, 5, 12])\n",
            "torch.Size([32, 1])\n"
          ]
        }
      ]
    },
    {
      "cell_type": "markdown",
      "source": [
        "# LSTM"
      ],
      "metadata": {
        "id": "1NSIQI8PFA6a"
      }
    },
    {
      "cell_type": "code",
      "source": [
        "class LSTM(nn.Module):\n",
        "\n",
        "    def __init__(self, input_size, hidden_size, num_layers, output_size):\n",
        "        super(LSTM, self).__init__()\n",
        "\n",
        "        self.hidden_size = hidden_size\n",
        "        self.num_layers = num_layers\n",
        "\n",
        "        self.lstm = nn.LSTM(input_size, hidden_size, num_layers, batch_first=True)\n",
        "        self.fc = nn.Linear(hidden_size, output_size)\n",
        "\n",
        "    def forward(self, x):\n",
        "        # Stato nascosto iniziale e stato della cella\n",
        "        h0 = torch.zeros(self.num_layers, x.size(0), self.hidden_size).to(x.device)\n",
        "        c0 = torch.zeros(self.num_layers, x.size(0), self.hidden_size).to(x.device)\n",
        "\n",
        "        # Passaggio attraverso la LSTM\n",
        "        out, _ = self.lstm(x, (h0, c0))\n",
        "\n",
        "        # Passaggio attraverso il layer fully connected\n",
        "        out = self.fc(out[:, -1, :])  # Usare solo l'ultimo stato nascosto\n",
        "        return out"
      ],
      "metadata": {
        "id": "ypm-AA2vFARy"
      },
      "execution_count": 62,
      "outputs": []
    },
    {
      "cell_type": "code",
      "source": [
        "import torch.optim as optim\n",
        "\n",
        "# Iperparametri\n",
        "input_size = 12\n",
        "hidden_size = 50\n",
        "num_layers = 2\n",
        "output_size = 1\n",
        "learning_rate = 0.001\n",
        "num_epochs = 500\n",
        "\n",
        "# Inizializzazione del modello, della loss function e dell'optimizer\n",
        "model = LSTM(input_size, hidden_size, num_layers, output_size)\n",
        "criterion = nn.MSELoss()\n",
        "optimizer = optim.Adam(model.parameters(), lr=learning_rate)\n",
        "\n",
        "# Early stopping\n",
        "best_loss = float('inf')\n",
        "epochs_no_improve = 0\n",
        "early_stop = False"
      ],
      "metadata": {
        "id": "LRmOtCHZPyMZ"
      },
      "execution_count": 63,
      "outputs": []
    },
    {
      "cell_type": "code",
      "source": [
        "# Funzione per calcolare l'accuracy\n",
        "def calculate_regression_accuracy(predictions, labels, tolerance=0.1):\n",
        "    # Tolleranza relativa: errore deve essere <= 10% del valore vero\n",
        "    errors = torch.abs(predictions - labels)\n",
        "    correct = (errors / torch.abs(labels) <= tolerance).float().sum()\n",
        "    accuracy = correct / labels.size(0)\n",
        "    return accuracy.item()\n",
        "\n"
      ],
      "metadata": {
        "id": "jHRb9uWucF3H"
      },
      "execution_count": 67,
      "outputs": []
    },
    {
      "cell_type": "code",
      "source": [
        "# Addestramento del modello\n",
        "model.train()\n",
        "for epoch in range(num_epochs):\n",
        "    if early_stop:\n",
        "        print(f\"Early stopping at epoch {epoch}\")\n",
        "        break\n",
        "\n",
        "    model.train()\n",
        "    train_loss = 0.0\n",
        "    train_accuracy = 0.0\n",
        "\n",
        "    for batch_X, batch_y in train_loader:\n",
        "        # Forward pass\n",
        "        outputs = model(batch_X)\n",
        "        loss = criterion(outputs, batch_y)\n",
        "\n",
        "        # Backward pass e aggiornamento dei pesi\n",
        "        optimizer.zero_grad()\n",
        "        loss.backward()\n",
        "        optimizer.step()\n",
        "\n",
        "        train_loss += loss.item()\n",
        "        train_accuracy += calculate_accuracy(outputs, batch_y)\n",
        "\n",
        "    train_loss /= len(train_loader)\n",
        "    train_accuracy /= len(train_loader)\n",
        "\n",
        "\n",
        "    # Validation\n",
        "    model.eval()\n",
        "    val_loss = 0.0\n",
        "    val_accuracy = 0.0\n",
        "\n",
        "    with torch.no_grad():\n",
        "        for val_X, val_y in valid_loader:\n",
        "            val_outputs = model(val_X)\n",
        "            loss = criterion(val_outputs, val_y)\n",
        "            val_loss += loss.item()\n",
        "            val_accuracy += calculate_accuracy(val_outputs, val_y)\n",
        "\n",
        "    val_loss /= len(valid_loader)\n",
        "    val_accuracy /= len(valid_loader)\n",
        "\n",
        "\n",
        "    # Stampa della loss ogni 10 epoche\n",
        "    if (epoch + 1) % 10 == 0:\n",
        "      print(f\"Epoch [{epoch+1}/{num_epochs}], Train Loss: {train_loss:.4f}, Val Loss: {val_loss:.4f}, \"\n",
        "          f\"Train Acc: {train_accuracy:.4f}, Val Acc: {val_accuracy:.4f}\")\n",
        "\n",
        "\n",
        "    # Early stopping check\n",
        "  #  if val_loss < best_loss:\n",
        "      #  best_loss = val_loss\n",
        "       # epochs_no_improve = 0\n",
        "    #else:\n",
        "     #   epochs_no_improve += 1\n",
        "\n",
        "    #if epochs_no_improve >= 5:\n",
        "      #  early_stop = True"
      ],
      "metadata": {
        "id": "dCE5sKUHRwcq",
        "outputId": "814a6e5e-dac5-4c53-bd8b-8b58a4369efc",
        "colab": {
          "base_uri": "https://localhost:8080/",
          "height": 408
        }
      },
      "execution_count": 68,
      "outputs": [
        {
          "output_type": "stream",
          "name": "stdout",
          "text": [
            "Epoch [10/500], Train Loss: 15.2820, Val Loss: 118.4118, Train Acc: 0.0000, Val Acc: 0.0000\n",
            "Epoch [20/500], Train Loss: 16.0774, Val Loss: 117.2639, Train Acc: 0.0000, Val Acc: 0.0000\n",
            "Epoch [30/500], Train Loss: 13.2131, Val Loss: 128.4715, Train Acc: 0.0000, Val Acc: 0.0000\n"
          ]
        },
        {
          "output_type": "error",
          "ename": "KeyboardInterrupt",
          "evalue": "",
          "traceback": [
            "\u001b[0;31m---------------------------------------------------------------------------\u001b[0m",
            "\u001b[0;31mKeyboardInterrupt\u001b[0m                         Traceback (most recent call last)",
            "\u001b[0;32m<ipython-input-68-6da2934a9809>\u001b[0m in \u001b[0;36m<cell line: 3>\u001b[0;34m()\u001b[0m\n\u001b[1;32m     17\u001b[0m         \u001b[0;31m# Backward pass e aggiornamento dei pesi\u001b[0m\u001b[0;34m\u001b[0m\u001b[0;34m\u001b[0m\u001b[0m\n\u001b[1;32m     18\u001b[0m         \u001b[0moptimizer\u001b[0m\u001b[0;34m.\u001b[0m\u001b[0mzero_grad\u001b[0m\u001b[0;34m(\u001b[0m\u001b[0;34m)\u001b[0m\u001b[0;34m\u001b[0m\u001b[0;34m\u001b[0m\u001b[0m\n\u001b[0;32m---> 19\u001b[0;31m         \u001b[0mloss\u001b[0m\u001b[0;34m.\u001b[0m\u001b[0mbackward\u001b[0m\u001b[0;34m(\u001b[0m\u001b[0;34m)\u001b[0m\u001b[0;34m\u001b[0m\u001b[0;34m\u001b[0m\u001b[0m\n\u001b[0m\u001b[1;32m     20\u001b[0m         \u001b[0moptimizer\u001b[0m\u001b[0;34m.\u001b[0m\u001b[0mstep\u001b[0m\u001b[0;34m(\u001b[0m\u001b[0;34m)\u001b[0m\u001b[0;34m\u001b[0m\u001b[0;34m\u001b[0m\u001b[0m\n\u001b[1;32m     21\u001b[0m \u001b[0;34m\u001b[0m\u001b[0m\n",
            "\u001b[0;32m/usr/local/lib/python3.10/dist-packages/torch/_tensor.py\u001b[0m in \u001b[0;36mbackward\u001b[0;34m(self, gradient, retain_graph, create_graph, inputs)\u001b[0m\n\u001b[1;32m    579\u001b[0m                 \u001b[0minputs\u001b[0m\u001b[0;34m=\u001b[0m\u001b[0minputs\u001b[0m\u001b[0;34m,\u001b[0m\u001b[0;34m\u001b[0m\u001b[0;34m\u001b[0m\u001b[0m\n\u001b[1;32m    580\u001b[0m             )\n\u001b[0;32m--> 581\u001b[0;31m         torch.autograd.backward(\n\u001b[0m\u001b[1;32m    582\u001b[0m             \u001b[0mself\u001b[0m\u001b[0;34m,\u001b[0m \u001b[0mgradient\u001b[0m\u001b[0;34m,\u001b[0m \u001b[0mretain_graph\u001b[0m\u001b[0;34m,\u001b[0m \u001b[0mcreate_graph\u001b[0m\u001b[0;34m,\u001b[0m \u001b[0minputs\u001b[0m\u001b[0;34m=\u001b[0m\u001b[0minputs\u001b[0m\u001b[0;34m\u001b[0m\u001b[0;34m\u001b[0m\u001b[0m\n\u001b[1;32m    583\u001b[0m         )\n",
            "\u001b[0;32m/usr/local/lib/python3.10/dist-packages/torch/autograd/__init__.py\u001b[0m in \u001b[0;36mbackward\u001b[0;34m(tensors, grad_tensors, retain_graph, create_graph, grad_variables, inputs)\u001b[0m\n\u001b[1;32m    345\u001b[0m     \u001b[0;31m# some Python versions print out the first line of a multi-line function\u001b[0m\u001b[0;34m\u001b[0m\u001b[0;34m\u001b[0m\u001b[0m\n\u001b[1;32m    346\u001b[0m     \u001b[0;31m# calls in the traceback and some print out the last line\u001b[0m\u001b[0;34m\u001b[0m\u001b[0;34m\u001b[0m\u001b[0m\n\u001b[0;32m--> 347\u001b[0;31m     _engine_run_backward(\n\u001b[0m\u001b[1;32m    348\u001b[0m         \u001b[0mtensors\u001b[0m\u001b[0;34m,\u001b[0m\u001b[0;34m\u001b[0m\u001b[0;34m\u001b[0m\u001b[0m\n\u001b[1;32m    349\u001b[0m         \u001b[0mgrad_tensors_\u001b[0m\u001b[0;34m,\u001b[0m\u001b[0;34m\u001b[0m\u001b[0;34m\u001b[0m\u001b[0m\n",
            "\u001b[0;32m/usr/local/lib/python3.10/dist-packages/torch/autograd/graph.py\u001b[0m in \u001b[0;36m_engine_run_backward\u001b[0;34m(t_outputs, *args, **kwargs)\u001b[0m\n\u001b[1;32m    823\u001b[0m         \u001b[0munregister_hooks\u001b[0m \u001b[0;34m=\u001b[0m \u001b[0m_register_logging_hooks_on_whole_graph\u001b[0m\u001b[0;34m(\u001b[0m\u001b[0mt_outputs\u001b[0m\u001b[0;34m)\u001b[0m\u001b[0;34m\u001b[0m\u001b[0;34m\u001b[0m\u001b[0m\n\u001b[1;32m    824\u001b[0m     \u001b[0;32mtry\u001b[0m\u001b[0;34m:\u001b[0m\u001b[0;34m\u001b[0m\u001b[0;34m\u001b[0m\u001b[0m\n\u001b[0;32m--> 825\u001b[0;31m         return Variable._execution_engine.run_backward(  # Calls into the C++ engine to run the backward pass\n\u001b[0m\u001b[1;32m    826\u001b[0m             \u001b[0mt_outputs\u001b[0m\u001b[0;34m,\u001b[0m \u001b[0;34m*\u001b[0m\u001b[0margs\u001b[0m\u001b[0;34m,\u001b[0m \u001b[0;34m**\u001b[0m\u001b[0mkwargs\u001b[0m\u001b[0;34m\u001b[0m\u001b[0;34m\u001b[0m\u001b[0m\n\u001b[1;32m    827\u001b[0m         )  # Calls into the C++ engine to run the backward pass\n",
            "\u001b[0;31mKeyboardInterrupt\u001b[0m: "
          ]
        }
      ]
    },
    {
      "cell_type": "code",
      "source": [
        "predictions = model(X_tensor)\n"
      ],
      "metadata": {
        "id": "KH-pnaMQTsyO"
      },
      "execution_count": 26,
      "outputs": []
    },
    {
      "cell_type": "code",
      "source": [
        "predictions.shape"
      ],
      "metadata": {
        "id": "xS4G4fuSTyez",
        "outputId": "8ff33194-495a-4145-bcef-6dc59787d25b",
        "colab": {
          "base_uri": "https://localhost:8080/"
        }
      },
      "execution_count": 30,
      "outputs": [
        {
          "output_type": "execute_result",
          "data": {
            "text/plain": [
              "torch.Size([1638, 1])"
            ]
          },
          "metadata": {},
          "execution_count": 30
        }
      ]
    },
    {
      "cell_type": "code",
      "source": [
        "y_tensor.shape"
      ],
      "metadata": {
        "id": "5HbULqNJT53c",
        "outputId": "60d64ee5-d327-4d33-a6f2-6d191e1ee78f",
        "colab": {
          "base_uri": "https://localhost:8080/"
        }
      },
      "execution_count": 29,
      "outputs": [
        {
          "output_type": "execute_result",
          "data": {
            "text/plain": [
              "torch.Size([1638, 1])"
            ]
          },
          "metadata": {},
          "execution_count": 29
        }
      ]
    },
    {
      "cell_type": "code",
      "source": [
        "# Valutazione finale\n",
        "X_test, y_test = next(iter(train_loader))\n",
        "model.eval()\n",
        "with torch.no_grad():\n",
        "    predictions = model(X_test).numpy()\n",
        "    predictions = scaler.inverse_transform(predictions)  # Denormalizza\n",
        "    actuals = scaler.inverse_transform(y_test.numpy())\n",
        "\n",
        "# Output delle performance\n",
        "print(\"Predizioni vs Valori Reali\")\n",
        "print(np.concatenate((predictions[:10], actuals[:10]), axis=1))  # Mostra i primi 10 risultati"
      ],
      "metadata": {
        "id": "v0SN4UZuQVFw",
        "outputId": "f334396d-16a4-4fbc-80ba-890baa48b47c",
        "colab": {
          "base_uri": "https://localhost:8080/"
        }
      },
      "execution_count": 65,
      "outputs": [
        {
          "output_type": "stream",
          "name": "stdout",
          "text": [
            "Predizioni vs Valori Reali\n",
            "[[195.30745  108.09262 ]\n",
            " [200.46918  109.09048 ]\n",
            " [219.42792  107.64301 ]\n",
            " [223.38463  106.55487 ]\n",
            " [228.91203  107.543655]\n",
            " [201.08821  107.27794 ]\n",
            " [206.24838  109.885704]\n",
            " [215.32707  114.08101 ]\n",
            " [226.00444  111.38407 ]\n",
            " [224.45583  113.34073 ]]\n"
          ]
        }
      ]
    },
    {
      "cell_type": "markdown",
      "source": [
        "Il formato del tensore torch.Size([32, 12]) che ottieni con next(iter(data_loader))[0].shape è parzialmente corretto per creare una LSTM, ma manca una dimensione fondamentale: la dimensione di sequenza temporale.\n",
        "\n",
        "Per una LSTM, il tensore di input dovrebbe avere la seguente forma:\n",
        "\n",
        "(\n",
        "batch_size\n",
        ",\n",
        "sequence_length\n",
        ",\n",
        "input_size\n",
        ")\n",
        "(batch_size,sequence_length,input_size)"
      ],
      "metadata": {
        "id": "uzqGgTCYLKCp"
      }
    },
    {
      "cell_type": "markdown",
      "source": [
        "Spesso la scelta di sequence_length viene fatta sperimentalmente:\n",
        "\n",
        "Prova diversi valori (ad esempio, 1, 5, 7) e confronta le prestazioni del modello (ad esempio, tramite metriche come MSE o MAE).\n",
        "Usa la validazione incrociata per capire quale valore produce le previsioni più accurate.\n"
      ],
      "metadata": {
        "id": "hD0Y4OB3M3jx"
      }
    }
  ]
}